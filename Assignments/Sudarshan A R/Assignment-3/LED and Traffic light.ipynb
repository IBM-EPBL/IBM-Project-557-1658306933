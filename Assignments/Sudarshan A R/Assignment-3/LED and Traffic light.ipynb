{
 "cells": [
  {
   "cell_type": "code",
   "execution_count": null,
   "id": "cb55353c",
   "metadata": {},
   "outputs": [],
   "source": [
    "import RPi.GPIO as GPIO\n",
    "import time\n",
    "\n",
    "GPIO.setmode(GPIO.BCM)\n",
    "GPIO.setwarnings(False)\n",
    "GPIO.setup(14,GPIO.OUT)\n",
    "\n",
    "# While loop\n",
    "while True:\n",
    "        # set GPIO14 pin to HIGH\n",
    "        GPIO.output(14,GPIO.HIGH)\n",
    "        # show message to Terminal\n",
    "        print (\"LED is now ON\")\n",
    "        # pause for two seconds\n",
    "        time.sleep(2)\n",
    "\n",
    "\n",
    "        # set GPIO14 pin to HIGH\n",
    "        GPIO.output(14,GPIO.LOW)\n",
    "        # show message to Terminal\n",
    "        print (\"LED is now OFF\")\n",
    "        # pause for two seconds\n",
    "        time.sleep(2)"
   ]
  },
  {
   "cell_type": "code",
   "execution_count": null,
   "id": "926a99d6",
   "metadata": {},
   "outputs": [],
   "source": [
    "import time\n",
    "import RPi.GPIO as GPIO\n",
    "GPIO.cleanup()\n",
    "GPIO.setmode(GPIO.BOARD)\n",
    "GPIO.setup(3,GPIO.OUT)\n",
    "GPIO.setup(5,GPIO.OUT)\n",
    "GPIO.setup(7,GPIO.OUT)\n",
    "while True:\n",
    "    # Turn on the red LED\n",
    "    GPIO.output(3,GPIO.HIGH)\n",
    "    time.sleep(2)\n",
    "    # Turn on the yellow LED\n",
    "    GPIO.output(5,GPIO.HIGH)\n",
    "    time.sleep(2)\n",
    "    # Turn off the yellow LED\n",
    "    GPIO.output(5,GPIO.LOW)\n",
    "    # Turn off the red LED\n",
    "    GPIO.output(3,GPIO.LOW)\n",
    "    # Turn on the green LED\n",
    "    GPIO.output(7,GPIO.HIGH)\n",
    "    time.sleep(2)\n",
    "    # Turn off the green LED\n",
    "    GPIO.output(7,GPIO.LOW)\n",
    "    # Turn on the yellow LED\n",
    "    GPIO.output(5,GPIO.HIGH)\n",
    "    time.sleep(2)"
   ]
  }
 ],
 "metadata": {
  "kernelspec": {
   "display_name": "Python 3",
   "language": "python",
   "name": "python3"
  },
  "language_info": {
   "codemirror_mode": {
    "name": "ipython",
    "version": 3
   },
   "file_extension": ".py",
   "mimetype": "text/x-python",
   "name": "python",
   "nbconvert_exporter": "python",
   "pygments_lexer": "ipython3",
   "version": "3.8.8"
  }
 },
 "nbformat": 4,
 "nbformat_minor": 5
}
